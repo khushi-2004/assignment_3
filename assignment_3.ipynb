{
 "cells": [
  {
   "cell_type": "code",
   "execution_count": null,
   "id": "e6699c35-de36-4eec-afb8-2e45d214af77",
   "metadata": {},
   "outputs": [],
   "source": [
    "\n",
    "Q1. Which keyword is used to create a function? Create a function to return a list of odd numbers in the\n",
    "range of 1 to 25.\n",
    "\n"
   ]
  },
  {
   "cell_type": "code",
   "execution_count": 1,
   "id": "a8ea469d-c540-437c-90ce-a75d1c086c48",
   "metadata": {},
   "outputs": [],
   "source": [
    "# For create a function we use ' def ' keyword\n",
    "\n",
    "def odd_num():\n",
    "    l1=[]\n",
    "    for i in range(1,26):\n",
    "        if (i%2!=0):\n",
    "            l1.append(i)\n",
    "    return l1"
   ]
  },
  {
   "cell_type": "code",
   "execution_count": 2,
   "id": "87f2db77-49fa-4881-93a7-8b827fdebbea",
   "metadata": {},
   "outputs": [
    {
     "data": {
      "text/plain": [
       "[1, 3, 5, 7, 9, 11, 13, 15, 17, 19, 21, 23, 25]"
      ]
     },
     "execution_count": 2,
     "metadata": {},
     "output_type": "execute_result"
    }
   ],
   "source": [
    "odd_num()"
   ]
  },
  {
   "cell_type": "code",
   "execution_count": null,
   "id": "26a45448-d68a-4448-a57e-f462291de0a8",
   "metadata": {},
   "outputs": [],
   "source": [
    "\n",
    "Q2. Why *args and **kwargs is used in some functions? Create a function each for *args and **kwargs\n",
    "to demonstrate their use.\n",
    "\n"
   ]
  },
  {
   "cell_type": "code",
   "execution_count": 16,
   "id": "2082bd6c-afe8-46bf-89ab-017cbea8b96c",
   "metadata": {},
   "outputs": [],
   "source": [
    "'''\n",
    "    *args:\n",
    "        We use args for more then two arguments\n",
    "        all argument in the form of tuples\n",
    "    \n",
    "    **kwargs:\n",
    "        it is also use for more agrument in key value pair\n",
    "        all argument in the form of dictionary\n",
    "'''\n",
    "\n",
    "def sum(*args):\n",
    "    return args"
   ]
  },
  {
   "cell_type": "code",
   "execution_count": 17,
   "id": "2654156e-eecf-4e91-92ab-9f5320a584b3",
   "metadata": {},
   "outputs": [
    {
     "data": {
      "text/plain": [
       "(2, 3, 4, 5, 6, 7, 5)"
      ]
     },
     "execution_count": 17,
     "metadata": {},
     "output_type": "execute_result"
    }
   ],
   "source": [
    "sum(2,3,4,5,6,7,5)"
   ]
  },
  {
   "cell_type": "code",
   "execution_count": 18,
   "id": "97d51139-4cfc-4367-8c14-591b133222a7",
   "metadata": {},
   "outputs": [],
   "source": [
    "def add(**args):\n",
    "    return args"
   ]
  },
  {
   "cell_type": "code",
   "execution_count": 19,
   "id": "9d603d02-ea7f-49fe-945c-cc13c71e7d7f",
   "metadata": {},
   "outputs": [
    {
     "data": {
      "text/plain": [
       "{'a': 'name', 'b': 'hello', 'c': 'bye'}"
      ]
     },
     "execution_count": 19,
     "metadata": {},
     "output_type": "execute_result"
    }
   ],
   "source": [
    "add(a=\"name\",b=\"hello\",c=\"bye\")"
   ]
  },
  {
   "cell_type": "code",
   "execution_count": null,
   "id": "d5ee8e18-934f-4c4a-96d6-db4337093fe5",
   "metadata": {},
   "outputs": [],
   "source": [
    "\n",
    "\n",
    "Q3. What is an iterator in python? Name the method used to initialise the iterator object and the method\n",
    "used for iteration. Use these methods to print the first five elements of the given list [2, 4, 6, 8, 10, 12, 14,\n",
    "16, 18, 20].\n",
    "\n"
   ]
  },
  {
   "cell_type": "code",
   "execution_count": null,
   "id": "2fbe043c-f52a-47ba-ad3b-e447abc65416",
   "metadata": {},
   "outputs": [],
   "source": [
    "iterator:\n",
    "    with the help of next we can easily move to the next iteration\n",
    "    is called ' iterator '\n",
    "\n",
    "==> ' iter() ' method is use for initialise the iterator object\n",
    "\n",
    "==> iteration are performed through ' for ' and ' while ' loop\n"
   ]
  },
  {
   "cell_type": "code",
   "execution_count": 1,
   "id": "0db30e00-935e-42cd-9c59-d5a56b422ed9",
   "metadata": {},
   "outputs": [],
   "source": [
    "l=[2,4,6,8,10,12,14,16,18,20]"
   ]
  },
  {
   "cell_type": "code",
   "execution_count": 3,
   "id": "decc1350-fcc5-4779-b67b-6d64398c4b8e",
   "metadata": {},
   "outputs": [],
   "source": [
    "l1=iter(l)"
   ]
  },
  {
   "cell_type": "code",
   "execution_count": 5,
   "id": "c9660491-7384-4ddc-bc90-38f5289d8561",
   "metadata": {},
   "outputs": [
    {
     "name": "stdout",
     "output_type": "stream",
     "text": [
      "2\n",
      "4\n",
      "6\n",
      "8\n",
      "10\n"
     ]
    }
   ],
   "source": [
    "for i in range(5):\n",
    "    print(next(l1))"
   ]
  },
  {
   "cell_type": "code",
   "execution_count": null,
   "id": "f7b35e1d-1294-4f69-b68b-2c5209eacae4",
   "metadata": {},
   "outputs": [],
   "source": [
    "\n",
    "Q4. What is a generator function in python? Why yield keyword is used? Give an example of a generator\n",
    "function.\n",
    "\n"
   ]
  },
  {
   "cell_type": "code",
   "execution_count": null,
   "id": "5c6be0ec-2f13-477f-9fc9-edfc859f4401",
   "metadata": {},
   "outputs": [],
   "source": [
    "Generator function:\n",
    "    it use use for memory utilization\n",
    "    \n",
    "' yield ' keyword is use for generator function\n"
   ]
  },
  {
   "cell_type": "code",
   "execution_count": 9,
   "id": "b62ba121-ae72-496f-a750-cd5d4edb1816",
   "metadata": {},
   "outputs": [],
   "source": [
    "#  sum of series 1+1/2+1/3....\n",
    "\n",
    "def mat(n,x):\n",
    "    sum1=1\n",
    "    for i in range(2,n+1):\n",
    "        yield sum1\n",
    "        sum1=sum1+(x**i)/i\n",
    "    "
   ]
  },
  {
   "cell_type": "code",
   "execution_count": 14,
   "id": "2a71d16d-f3c6-42da-a7b5-dd55bdd4aa3a",
   "metadata": {},
   "outputs": [
    {
     "data": {
      "text/plain": [
       "<generator object mat at 0x7fe4e0345620>"
      ]
     },
     "execution_count": 14,
     "metadata": {},
     "output_type": "execute_result"
    }
   ],
   "source": [
    "mat(4,1)\n",
    "    "
   ]
  },
  {
   "cell_type": "code",
   "execution_count": 15,
   "id": "6da114a8-d8c1-49ba-b83a-de7aa7c3424b",
   "metadata": {},
   "outputs": [
    {
     "name": "stdout",
     "output_type": "stream",
     "text": [
      "1\n",
      "1.5\n",
      "1.8333333333333333\n"
     ]
    }
   ],
   "source": [
    "for i in mat(4,1):\n",
    "    print(i)"
   ]
  },
  {
   "cell_type": "code",
   "execution_count": null,
   "id": "8eddfe2a-5790-4e83-b574-32fb5cdc49be",
   "metadata": {},
   "outputs": [],
   "source": [
    "\n",
    "Q5. Create a generator function for prime numbers less than 1000. Use the next() method to print the\n",
    "first 20 prime numbers.\n",
    "\n"
   ]
  },
  {
   "cell_type": "code",
   "execution_count": 54,
   "id": "b491a1be-f65a-47a7-963d-a0475fd22519",
   "metadata": {},
   "outputs": [],
   "source": [
    "\n",
    "    l=[]\n",
    "    for num in range(1,1000):\n",
    "        if(num>1):\n",
    "            for i in range(2,num):\n",
    "                if(num%i==0):\n",
    "                    break\n",
    "                else:\n",
    "                    l.append(num)"
   ]
  },
  {
   "cell_type": "code",
   "execution_count": 57,
   "id": "47fd0bb9-0daf-4136-b015-ca52b8a51485",
   "metadata": {},
   "outputs": [
    {
     "data": {
      "text/plain": [
       "list_iterator"
      ]
     },
     "execution_count": 57,
     "metadata": {},
     "output_type": "execute_result"
    }
   ],
   "source": [
    "l2=[]\n",
    "l2=iter(l)\n",
    "type(l2)"
   ]
  },
  {
   "cell_type": "code",
   "execution_count": 59,
   "id": "c0f8b357-87e6-4f91-85f2-36c49bcdaa94",
   "metadata": {},
   "outputs": [],
   "source": [
    "for i in range(1,1000):\n",
    "    print(next(l2))"
   ]
  },
  {
   "cell_type": "code",
   "execution_count": null,
   "id": "c0d19b53-3574-4b27-901c-c2df70fe20c4",
   "metadata": {},
   "outputs": [],
   "source": []
  },
  {
   "cell_type": "code",
   "execution_count": null,
   "id": "0cf348ac-ac51-4b72-ad97-e0e5db95953a",
   "metadata": {},
   "outputs": [],
   "source": [
    "\n",
    "Q6. Write a python program to print the first 10 Fibonacci numbers using a while loop.\n",
    "\n"
   ]
  },
  {
   "cell_type": "code",
   "execution_count": 63,
   "id": "4966ffc2-3346-4048-8402-525039d31e7e",
   "metadata": {},
   "outputs": [],
   "source": [
    "def fib_num():\n",
    "    a,b=0,1\n",
    "    while(True):\n",
    "        yield a\n",
    "        a,b=b,a+b"
   ]
  },
  {
   "cell_type": "code",
   "execution_count": 64,
   "id": "daf89675-e661-4ade-b0a3-f8066d741a13",
   "metadata": {},
   "outputs": [],
   "source": [
    "fib=fib_num()"
   ]
  },
  {
   "cell_type": "code",
   "execution_count": 65,
   "id": "d619c555-5ac6-42b2-a7f2-298c56631c3a",
   "metadata": {},
   "outputs": [
    {
     "name": "stdout",
     "output_type": "stream",
     "text": [
      "0\n",
      "1\n",
      "1\n",
      "2\n",
      "3\n",
      "5\n",
      "8\n",
      "13\n",
      "21\n",
      "34\n"
     ]
    }
   ],
   "source": [
    "for i in range(10):\n",
    "    print(next(fib))"
   ]
  },
  {
   "cell_type": "code",
   "execution_count": null,
   "id": "735f1ada-694a-47cb-be8d-9c5f643307fe",
   "metadata": {},
   "outputs": [],
   "source": [
    "\n",
    "Q7. Write a List Comprehension to iterate through the given string: ‘pwskills’.\n",
    "Expected output: ['p', 'w', 's', 'k', 'i', 'l', 'l', 's']\n"
   ]
  },
  {
   "cell_type": "code",
   "execution_count": 66,
   "id": "b0426634-53d0-47ad-8f40-749deb20e6c0",
   "metadata": {},
   "outputs": [],
   "source": [
    "s=\"pwskills\""
   ]
  },
  {
   "cell_type": "code",
   "execution_count": 67,
   "id": "d0cd0fd4-3475-42fa-baf3-35b0b5f26209",
   "metadata": {},
   "outputs": [],
   "source": [
    "s1=iter(s)"
   ]
  },
  {
   "cell_type": "code",
   "execution_count": 69,
   "id": "52f1d042-a599-47f0-b015-030f41eb1ef8",
   "metadata": {},
   "outputs": [],
   "source": [
    "s2=[]\n",
    "for i in s1:\n",
    "    s2.append(i)"
   ]
  },
  {
   "cell_type": "code",
   "execution_count": 70,
   "id": "91983819-937f-4626-b2f3-57dd18594723",
   "metadata": {},
   "outputs": [
    {
     "data": {
      "text/plain": [
       "['p', 'w', 's', 'k', 'i', 'l', 'l', 's']"
      ]
     },
     "execution_count": 70,
     "metadata": {},
     "output_type": "execute_result"
    }
   ],
   "source": [
    "s2"
   ]
  },
  {
   "cell_type": "code",
   "execution_count": null,
   "id": "95470146-c86b-4ea9-b2ab-afb212e73658",
   "metadata": {},
   "outputs": [],
   "source": [
    "\n",
    "Q8. Write a python program to check whether a given number is Palindrome or not using a while loop.\n",
    "\n"
   ]
  },
  {
   "cell_type": "code",
   "execution_count": 78,
   "id": "4bce58b5-7e35-4705-8c20-a7fd656ca2ff",
   "metadata": {},
   "outputs": [
    {
     "name": "stdin",
     "output_type": "stream",
     "text": [
      "Enter number: 11211\n"
     ]
    },
    {
     "name": "stdout",
     "output_type": "stream",
     "text": [
      "The number is a palindrome!\n"
     ]
    }
   ],
   "source": [
    "n=int(input(\"Enter number:\"))\n",
    "temp=n\n",
    "rev=0\n",
    "while(n>0):\n",
    "    dig=n%10\n",
    "    rev=rev*10+dig\n",
    "    n=n//10\n",
    "if(temp==rev):\n",
    "    print(\"The number is a palindrome!\")\n",
    "else:\n",
    "    print(\"The number isn't a palindrome!\")"
   ]
  },
  {
   "cell_type": "code",
   "execution_count": null,
   "id": "d4b432c7-ba2f-4b84-a244-b6aed92b587d",
   "metadata": {},
   "outputs": [],
   "source": []
  },
  {
   "cell_type": "code",
   "execution_count": null,
   "id": "1b72ffb4-f1f5-4ff3-b227-5bce4539fc16",
   "metadata": {},
   "outputs": [],
   "source": [
    "\n",
    "Q9. Write a code to print odd numbers from 1 to 100 using list comprehension.\n",
    "\n"
   ]
  },
  {
   "cell_type": "code",
   "execution_count": 76,
   "id": "9724c2fd-06eb-41fc-8f78-c77bc744baf0",
   "metadata": {},
   "outputs": [],
   "source": [
    "l=[]\n",
    "for i in range(1,100):\n",
    "    l.append(i)\n",
    "    l2=[]\n",
    "    for j in l:\n",
    "        if(j%2!=0):\n",
    "            l2.append(j)"
   ]
  },
  {
   "cell_type": "code",
   "execution_count": 77,
   "id": "3bbdd133-21a8-4e1a-b577-cd4bc4078272",
   "metadata": {},
   "outputs": [
    {
     "data": {
      "text/plain": [
       "[1,\n",
       " 3,\n",
       " 5,\n",
       " 7,\n",
       " 9,\n",
       " 11,\n",
       " 13,\n",
       " 15,\n",
       " 17,\n",
       " 19,\n",
       " 21,\n",
       " 23,\n",
       " 25,\n",
       " 27,\n",
       " 29,\n",
       " 31,\n",
       " 33,\n",
       " 35,\n",
       " 37,\n",
       " 39,\n",
       " 41,\n",
       " 43,\n",
       " 45,\n",
       " 47,\n",
       " 49,\n",
       " 51,\n",
       " 53,\n",
       " 55,\n",
       " 57,\n",
       " 59,\n",
       " 61,\n",
       " 63,\n",
       " 65,\n",
       " 67,\n",
       " 69,\n",
       " 71,\n",
       " 73,\n",
       " 75,\n",
       " 77,\n",
       " 79,\n",
       " 81,\n",
       " 83,\n",
       " 85,\n",
       " 87,\n",
       " 89,\n",
       " 91,\n",
       " 93,\n",
       " 95,\n",
       " 97,\n",
       " 99]"
      ]
     },
     "execution_count": 77,
     "metadata": {},
     "output_type": "execute_result"
    }
   ],
   "source": [
    "l2"
   ]
  }
 ],
 "metadata": {
  "kernelspec": {
   "display_name": "Python 3 (ipykernel)",
   "language": "python",
   "name": "python3"
  },
  "language_info": {
   "codemirror_mode": {
    "name": "ipython",
    "version": 3
   },
   "file_extension": ".py",
   "mimetype": "text/x-python",
   "name": "python",
   "nbconvert_exporter": "python",
   "pygments_lexer": "ipython3",
   "version": "3.10.8"
  }
 },
 "nbformat": 4,
 "nbformat_minor": 5
}
